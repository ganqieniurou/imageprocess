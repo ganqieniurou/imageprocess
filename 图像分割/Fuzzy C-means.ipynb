{
 "cells": [
  {
   "cell_type": "code",
   "execution_count": 3,
   "metadata": {},
   "outputs": [],
   "source": [
    "import numpy as np\n",
    "from PIL import Image\n",
    "import matplotlib.pyplot as plt\n",
    "%matplotlib inline\n",
    "import random\n",
    "\n",
    "img = Image.open('Lenna.png')\n",
    "gray = img.convert(\"L\")\n",
    "gray = np.array(gray)\n",
    "rgb = np.array(img)"
   ]
  },
  {
   "cell_type": "code",
   "execution_count": 176,
   "metadata": {
    "scrolled": true
   },
   "outputs": [],
   "source": [
    "class FCM(object):\n",
    "    \n",
    "    def __init__(self,C,iternum,m,gray):\n",
    "        self.C = C\n",
    "        self.m = m\n",
    "        self.iternum = iternum\n",
    "        self.data = gray\n",
    "        self.img_x = self.data.shape[0]\n",
    "        self.img_y = self.data.shape[1]        \n",
    "        \n",
    "        self.clusters = np.zeros([self.C],int)\n",
    "        self.membership = np.zeros([self.img_x,self.img_y,self.C])\n",
    "        self.J = 0\n",
    "        \n",
    "    def init_membership(self):\n",
    "        for i in range(self.img_x):\n",
    "            for j in range(self.img_y):\n",
    "                for n in range(self.C):\n",
    "                    self.membership[i,j,:] = np.random.dirichlet(np.ones(self.C),1)\n",
    "    \n",
    "    def cal_cluster(self):\n",
    "        sumx = np.zeros([self.C])\n",
    "        sumy = np.zeros([self.C])\n",
    "        for n in range(self.C):\n",
    "            sumx[n] = np.sum(self.data * self.membership[:,:,n] ** 2)\n",
    "            sumy[n] = np.sum(self.membership[:,:,n] ** 2)\n",
    "        self.clusters = sumx/sumy\n",
    "    \n",
    "    def cal_membership(self):\n",
    "        num = 2/(self.m - 1)\n",
    "        sumx = np.zeros([self.img_x,self.img_y,self.C])\n",
    "        sumy = np.zeros([self.img_x,self.img_y])\n",
    "        for n in range(self.C):\n",
    "            sumx[:,:,n] = abs(self.data - self.clusters[n])\n",
    "        for i in range(self.img_x):\n",
    "            for j in range(self.img_y):\n",
    "                sumy[i,j] = np.sum(sumx[i,j,:] ** num)\n",
    "        sumx = sumx ** num\n",
    "        for n in range(self.C):\n",
    "            self.membership[:,:,n] = sumx[:,:,n] / sumy\n",
    "    \n",
    "    def cal_J(self):\n",
    "        sumx = np.zeros([self.img_x,self.img_y,self.C])\n",
    "        for n in range(self.C):\n",
    "            sumx[:,:,n] = (self.clusters[n] ** self.m) * ((self.data - self.clusters[n]) ** 2)\n",
    "        self.J = np.sum(sumx)"
   ]
  },
  {
   "cell_type": "code",
   "execution_count": 224,
   "metadata": {},
   "outputs": [],
   "source": [
    "testclass = FCM(3,2,3,gray)"
   ]
  },
  {
   "cell_type": "code",
   "execution_count": 225,
   "metadata": {},
   "outputs": [
    {
     "data": {
      "text/plain": [
       "array([[[0.40266356, 0.22530126, 0.37203519],\n",
       "        [0.0710316 , 0.34505971, 0.58390868],\n",
       "        [0.06566802, 0.65424691, 0.28008507],\n",
       "        ...,\n",
       "        [0.93232626, 0.00611992, 0.06155382],\n",
       "        [0.13910379, 0.46063536, 0.40026086],\n",
       "        [0.14246229, 0.46691466, 0.39062306]],\n",
       "\n",
       "       [[0.52695589, 0.11579203, 0.35725208],\n",
       "        [0.21586369, 0.38597327, 0.39816304],\n",
       "        [0.3803928 , 0.28452426, 0.33508294],\n",
       "        ...,\n",
       "        [0.92225602, 0.06085347, 0.01689051],\n",
       "        [0.08559273, 0.33072963, 0.58367764],\n",
       "        [0.37432277, 0.40533445, 0.22034278]],\n",
       "\n",
       "       [[0.24715249, 0.05614356, 0.69670395],\n",
       "        [0.09211091, 0.81790313, 0.08998597],\n",
       "        [0.01852898, 0.04604   , 0.93543102],\n",
       "        ...,\n",
       "        [0.47413422, 0.36659909, 0.15926669],\n",
       "        [0.46041504, 0.51033567, 0.02924929],\n",
       "        [0.27559711, 0.12388669, 0.6005162 ]],\n",
       "\n",
       "       ...,\n",
       "\n",
       "       [[0.51767078, 0.37831548, 0.10401374],\n",
       "        [0.22938627, 0.29271859, 0.47789513],\n",
       "        [0.21302195, 0.43499787, 0.35198019],\n",
       "        ...,\n",
       "        [0.78057191, 0.15437785, 0.06505024],\n",
       "        [0.08641808, 0.67956996, 0.23401196],\n",
       "        [0.46031716, 0.3341156 , 0.20556724]],\n",
       "\n",
       "       [[0.22958399, 0.68023355, 0.09018247],\n",
       "        [0.13997951, 0.00555251, 0.85446798],\n",
       "        [0.28222073, 0.65401382, 0.06376545],\n",
       "        ...,\n",
       "        [0.00160762, 0.40480647, 0.59358591],\n",
       "        [0.06561954, 0.86060733, 0.07377313],\n",
       "        [0.08344932, 0.03931855, 0.87723212]],\n",
       "\n",
       "       [[0.53111358, 0.33664395, 0.13224247],\n",
       "        [0.08450459, 0.32439584, 0.59109957],\n",
       "        [0.1670057 , 0.80860651, 0.02438779],\n",
       "        ...,\n",
       "        [0.09964127, 0.5324323 , 0.36792643],\n",
       "        [0.35386112, 0.32115667, 0.32498221],\n",
       "        [0.16319591, 0.13303566, 0.70376844]]])"
      ]
     },
     "execution_count": 225,
     "metadata": {},
     "output_type": "execute_result"
    }
   ],
   "source": [
    "testclass.init_membership()\n",
    "testclass.membership"
   ]
  },
  {
   "cell_type": "code",
   "execution_count": 256,
   "metadata": {},
   "outputs": [
    {
     "data": {
      "text/plain": [
       "(array([ 95.59119249, 100.286655  , 150.86336025]), 4173253989926287.0)"
      ]
     },
     "execution_count": 256,
     "metadata": {},
     "output_type": "execute_result"
    }
   ],
   "source": [
    "testclass.cal_cluster()\n",
    "testclass.cal_J()\n",
    "testclass.clusters,testclass.J"
   ]
  },
  {
   "cell_type": "code",
   "execution_count": 255,
   "metadata": {},
   "outputs": [
    {
     "data": {
      "text/plain": [
       "array([[[0.13721345, 0.20487756, 0.65790899],\n",
       "        [0.13721345, 0.20487756, 0.65790899],\n",
       "        [0.13721345, 0.20487756, 0.65790899],\n",
       "        ...,\n",
       "        [0.17360374, 0.22871269, 0.59768358],\n",
       "        [0.08838364, 0.17289471, 0.73872165],\n",
       "        [0.29055223, 0.18459016, 0.52485761]],\n",
       "\n",
       "       [[0.13721345, 0.20487756, 0.65790899],\n",
       "        [0.13721345, 0.20487756, 0.65790899],\n",
       "        [0.13721345, 0.20487756, 0.65790899],\n",
       "        ...,\n",
       "        [0.17360374, 0.22871269, 0.59768358],\n",
       "        [0.08838364, 0.17289471, 0.73872165],\n",
       "        [0.29055223, 0.18459016, 0.52485761]],\n",
       "\n",
       "       [[0.13721345, 0.20487756, 0.65790899],\n",
       "        [0.13721345, 0.20487756, 0.65790899],\n",
       "        [0.13721345, 0.20487756, 0.65790899],\n",
       "        ...,\n",
       "        [0.17360374, 0.22871269, 0.59768358],\n",
       "        [0.08838364, 0.17289471, 0.73872165],\n",
       "        [0.29055223, 0.18459016, 0.52485761]],\n",
       "\n",
       "       ...,\n",
       "\n",
       "       [[0.4154301 , 0.38710556, 0.19746434],\n",
       "        [0.4154301 , 0.38710556, 0.19746434],\n",
       "        [0.42290458, 0.39200125, 0.18509417],\n",
       "        ...,\n",
       "        [0.47710658, 0.39900799, 0.12388544],\n",
       "        [0.49906083, 0.4242413 , 0.07669787],\n",
       "        [0.50936084, 0.4360797 , 0.05455946]],\n",
       "\n",
       "       [[0.41642058, 0.38775432, 0.1958251 ],\n",
       "        [0.41642058, 0.38775432, 0.1958251 ],\n",
       "        [0.42913474, 0.39608191, 0.17478335],\n",
       "        ...,\n",
       "        [0.47710658, 0.39900799, 0.12388544],\n",
       "        [0.471314  , 0.39235024, 0.13633575],\n",
       "        [0.45313978, 0.37146154, 0.17539868]],\n",
       "\n",
       "       [[0.41642058, 0.38775432, 0.1958251 ],\n",
       "        [0.41642058, 0.38775432, 0.1958251 ],\n",
       "        [0.42913474, 0.39608191, 0.17478335],\n",
       "        ...,\n",
       "        [0.47710658, 0.39900799, 0.12388544],\n",
       "        [0.471314  , 0.39235024, 0.13633575],\n",
       "        [0.45313978, 0.37146154, 0.17539868]]])"
      ]
     },
     "execution_count": 255,
     "metadata": {},
     "output_type": "execute_result"
    }
   ],
   "source": [
    "testclass.cal_membership()\n",
    "testclass.membership"
   ]
  },
  {
   "cell_type": "code",
   "execution_count": 185,
   "metadata": {},
   "outputs": [],
   "source": [
    "x = np.zeros([testclass.img_x,testclass.img_y])\n",
    "for i in range(testclass.img_x):\n",
    "    for j in range(testclass.img_y):\n",
    "        x[i,j] = np.sum(testclass.membership[i,j])"
   ]
  },
  {
   "cell_type": "code",
   "execution_count": 170,
   "metadata": {},
   "outputs": [
    {
     "data": {
      "text/plain": [
       "array([[1., 1., 1., ..., 1., 1., 1.],\n",
       "       [1., 1., 1., ..., 1., 1., 1.],\n",
       "       [1., 1., 1., ..., 1., 1., 1.],\n",
       "       ...,\n",
       "       [1., 1., 1., ..., 1., 1., 1.],\n",
       "       [1., 1., 1., ..., 1., 1., 1.],\n",
       "       [1., 1., 1., ..., 1., 1., 1.]])"
      ]
     },
     "execution_count": 170,
     "metadata": {},
     "output_type": "execute_result"
    }
   ],
   "source": [
    "x"
   ]
  },
  {
   "cell_type": "code",
   "execution_count": 47,
   "metadata": {},
   "outputs": [
    {
     "data": {
      "text/plain": [
       "124.03115541532469"
      ]
     },
     "execution_count": 47,
     "metadata": {},
     "output_type": "execute_result"
    }
   ],
   "source": [
    "np.sum(testclass.data * testclass.membership[:,:,1])/np.sum(testclass.membership[:,:,1])"
   ]
  },
  {
   "cell_type": "code",
   "execution_count": 73,
   "metadata": {},
   "outputs": [
    {
     "data": {
      "text/plain": [
       "array([[2.98473967, 2.98473967, 2.98473967, ..., 2.98738655, 2.98130745,\n",
       "        2.85897051],\n",
       "       [2.98473967, 2.98473967, 2.98473967, ..., 2.98738655, 2.98130745,\n",
       "        2.85897051],\n",
       "       [2.98473967, 2.98473967, 2.98473967, ..., 2.98738655, 2.98130745,\n",
       "        2.85897051],\n",
       "       ...,\n",
       "       [3.00719323, 3.00719323, 3.0078748 , ..., 3.02926745, 3.02436464,\n",
       "        3.0224816 ],\n",
       "       [3.00728329, 3.00728329, 3.00844646, ..., 3.02926745, 3.03081778,\n",
       "        3.0366404 ],\n",
       "       [3.00728329, 3.00728329, 3.00844646, ..., 3.02926745, 3.03081778,\n",
       "        3.0366404 ]])"
      ]
     },
     "execution_count": 73,
     "metadata": {},
     "output_type": "execute_result"
    }
   ],
   "source": [
    "testclass.membership"
   ]
  },
  {
   "cell_type": "code",
   "execution_count": 40,
   "metadata": {},
   "outputs": [
    {
     "data": {
      "text/plain": [
       "array([[[2.27860124e-01, 5.87445829e-01, 1.84694047e-01],\n",
       "        [2.25047120e-01, 2.94673451e-01, 4.80279429e-01],\n",
       "        [3.82343909e-02, 6.09666124e-01, 3.52099485e-01],\n",
       "        ...,\n",
       "        [5.15558603e-01, 4.43264473e-01, 4.11769240e-02],\n",
       "        [2.68834719e-01, 2.89642427e-01, 4.41522854e-01],\n",
       "        [8.99854522e-01, 3.18860129e-03, 9.69568771e-02]],\n",
       "\n",
       "       [[3.87670185e-01, 4.69642250e-01, 1.42687565e-01],\n",
       "        [2.99692497e-01, 2.59716744e-01, 4.40590759e-01],\n",
       "        [7.94248638e-01, 1.94421580e-01, 1.13297816e-02],\n",
       "        ...,\n",
       "        [5.59881660e-01, 1.59549352e-01, 2.80568988e-01],\n",
       "        [2.51832065e-01, 1.48485200e-01, 5.99682736e-01],\n",
       "        [9.74517651e-02, 2.02420806e-01, 7.00127428e-01]],\n",
       "\n",
       "       [[3.82879541e-01, 4.71507408e-01, 1.45613051e-01],\n",
       "        [3.54857738e-01, 1.17887250e-01, 5.27255012e-01],\n",
       "        [1.40200288e-01, 8.22916173e-01, 3.68835395e-02],\n",
       "        ...,\n",
       "        [5.41488104e-02, 4.39577737e-01, 5.06273452e-01],\n",
       "        [5.29081847e-01, 3.75250588e-01, 9.56675649e-02],\n",
       "        [6.35449771e-01, 7.58912480e-04, 3.63791317e-01]],\n",
       "\n",
       "       ...,\n",
       "\n",
       "       [[1.95395079e-01, 3.14859763e-01, 4.89745158e-01],\n",
       "        [3.50643251e-01, 2.94617065e-01, 3.54739684e-01],\n",
       "        [1.56288189e-01, 7.08542985e-01, 1.35168826e-01],\n",
       "        ...,\n",
       "        [3.32198265e-01, 3.82594615e-01, 2.85207120e-01],\n",
       "        [7.02941271e-01, 1.77502825e-01, 1.19555904e-01],\n",
       "        [3.12463378e-01, 4.97346344e-02, 6.37801988e-01]],\n",
       "\n",
       "       [[6.25714712e-01, 2.80005048e-01, 9.42802404e-02],\n",
       "        [7.14818785e-01, 1.36212437e-01, 1.48968777e-01],\n",
       "        [4.84068905e-01, 3.83105555e-01, 1.32825541e-01],\n",
       "        ...,\n",
       "        [4.22462999e-01, 3.52889045e-01, 2.24647956e-01],\n",
       "        [7.32638408e-02, 5.02404219e-02, 8.76495737e-01],\n",
       "        [4.24435285e-02, 6.68658492e-01, 2.88897980e-01]],\n",
       "\n",
       "       [[3.14341817e-01, 5.53766559e-01, 1.31891624e-01],\n",
       "        [7.30035654e-02, 2.11775653e-01, 7.15220781e-01],\n",
       "        [1.05968067e-01, 3.21574819e-01, 5.72457114e-01],\n",
       "        ...,\n",
       "        [7.37909516e-01, 1.33873329e-01, 1.28217155e-01],\n",
       "        [3.49022470e-02, 2.30847278e-01, 7.34250475e-01],\n",
       "        [6.99730272e-01, 1.16545616e-01, 1.83724112e-01]]])"
      ]
     },
     "execution_count": 40,
     "metadata": {},
     "output_type": "execute_result"
    }
   ],
   "source": [
    "testclass.membership"
   ]
  },
  {
   "cell_type": "code",
   "execution_count": 49,
   "metadata": {},
   "outputs": [
    {
     "data": {
      "text/plain": [
       "array([[2.23106087e-02, 3.41996980e-01, 2.87402918e-01, ...,\n",
       "        2.32287187e-01, 1.24390163e-01, 6.17218302e-01],\n",
       "       [5.50252842e-04, 4.97904460e-02, 1.64437512e-02, ...,\n",
       "        2.23334223e-01, 1.32540004e-02, 2.11377300e-01],\n",
       "       [1.09675476e-01, 1.14428703e-01, 7.35762740e-03, ...,\n",
       "        4.18937182e-01, 6.35032102e-02, 1.59845128e-02],\n",
       "       ...,\n",
       "       [8.11467157e-03, 4.37021085e-02, 6.91142377e-02, ...,\n",
       "        2.86276671e-03, 1.62363240e-01, 6.55671091e-01],\n",
       "       [1.31426852e-01, 1.99852965e-01, 5.45743215e-01, ...,\n",
       "        1.16085102e-01, 2.72396646e-01, 5.05666715e-03],\n",
       "       [1.50507689e-02, 2.38251497e-01, 5.94897859e-01, ...,\n",
       "        1.61834291e-01, 6.75958990e-02, 1.70279295e-01]])"
      ]
     },
     "execution_count": 49,
     "metadata": {},
     "output_type": "execute_result"
    }
   ],
   "source": [
    "testclass.membership[:,:,1]**2"
   ]
  },
  {
   "cell_type": "code",
   "execution_count": 58,
   "metadata": {},
   "outputs": [
    {
     "data": {
      "text/plain": [
       "array([[ 37.98737291,  37.98737291,  37.98737291, ...,  45.98737291,\n",
       "         30.98737291,   3.98737291],\n",
       "       [ 37.98737291,  37.98737291,  37.98737291, ...,  45.98737291,\n",
       "         30.98737291,   3.98737291],\n",
       "       [ 37.98737291,  37.98737291,  37.98737291, ...,  45.98737291,\n",
       "         30.98737291,   3.98737291],\n",
       "       ...,\n",
       "       [-81.01262709, -81.01262709, -74.01262709, ..., -20.01262709,\n",
       "        -24.01262709, -26.01262709],\n",
       "       [-80.01262709, -80.01262709, -69.01262709, ..., -20.01262709,\n",
       "        -19.01262709, -16.01262709],\n",
       "       [-80.01262709, -80.01262709, -69.01262709, ..., -20.01262709,\n",
       "        -19.01262709, -16.01262709]])"
      ]
     },
     "execution_count": 58,
     "metadata": {},
     "output_type": "execute_result"
    }
   ],
   "source": [
    "testclass.data - testclass.clusters[0]"
   ]
  },
  {
   "cell_type": "code",
   "execution_count": 62,
   "metadata": {},
   "outputs": [],
   "source": [
    "sumx = np.zeros([testclass.img_x,testclass.img_y,testclass.C])\n",
    "for i in range(3):\n",
    "    sumx[:,:,i] = abs(testclass.data - testclass.clusters[i])"
   ]
  },
  {
   "cell_type": "code",
   "execution_count": 63,
   "metadata": {},
   "outputs": [
    {
     "data": {
      "text/plain": [
       "array([[[37.98737291, 37.87345255, 37.98360865],\n",
       "        [37.98737291, 37.87345255, 37.98360865],\n",
       "        [37.98737291, 37.87345255, 37.98360865],\n",
       "        ...,\n",
       "        [45.98737291, 45.87345255, 45.98360865],\n",
       "        [30.98737291, 30.87345255, 30.98360865],\n",
       "        [ 3.98737291,  3.87345255,  3.98360865]],\n",
       "\n",
       "       [[37.98737291, 37.87345255, 37.98360865],\n",
       "        [37.98737291, 37.87345255, 37.98360865],\n",
       "        [37.98737291, 37.87345255, 37.98360865],\n",
       "        ...,\n",
       "        [45.98737291, 45.87345255, 45.98360865],\n",
       "        [30.98737291, 30.87345255, 30.98360865],\n",
       "        [ 3.98737291,  3.87345255,  3.98360865]],\n",
       "\n",
       "       [[37.98737291, 37.87345255, 37.98360865],\n",
       "        [37.98737291, 37.87345255, 37.98360865],\n",
       "        [37.98737291, 37.87345255, 37.98360865],\n",
       "        ...,\n",
       "        [45.98737291, 45.87345255, 45.98360865],\n",
       "        [30.98737291, 30.87345255, 30.98360865],\n",
       "        [ 3.98737291,  3.87345255,  3.98360865]],\n",
       "\n",
       "       ...,\n",
       "\n",
       "       [[81.01262709, 81.12654745, 81.01639135],\n",
       "        [81.01262709, 81.12654745, 81.01639135],\n",
       "        [74.01262709, 74.12654745, 74.01639135],\n",
       "        ...,\n",
       "        [20.01262709, 20.12654745, 20.01639135],\n",
       "        [24.01262709, 24.12654745, 24.01639135],\n",
       "        [26.01262709, 26.12654745, 26.01639135]],\n",
       "\n",
       "       [[80.01262709, 80.12654745, 80.01639135],\n",
       "        [80.01262709, 80.12654745, 80.01639135],\n",
       "        [69.01262709, 69.12654745, 69.01639135],\n",
       "        ...,\n",
       "        [20.01262709, 20.12654745, 20.01639135],\n",
       "        [19.01262709, 19.12654745, 19.01639135],\n",
       "        [16.01262709, 16.12654745, 16.01639135]],\n",
       "\n",
       "       [[80.01262709, 80.12654745, 80.01639135],\n",
       "        [80.01262709, 80.12654745, 80.01639135],\n",
       "        [69.01262709, 69.12654745, 69.01639135],\n",
       "        ...,\n",
       "        [20.01262709, 20.12654745, 20.01639135],\n",
       "        [19.01262709, 19.12654745, 19.01639135],\n",
       "        [16.01262709, 16.12654745, 16.01639135]]])"
      ]
     },
     "execution_count": 63,
     "metadata": {},
     "output_type": "execute_result"
    }
   ],
   "source": [
    "sumx"
   ]
  },
  {
   "cell_type": "code",
   "execution_count": 27,
   "metadata": {},
   "outputs": [],
   "source": [
    "class FCM(object):\n",
    "    \n",
    "    def __init__(self,C,iternum,m,gray):\n",
    "        self.C = C\n",
    "        self.m = m\n",
    "        self.iternum = iternum\n",
    "        self.data = gray\n",
    "        self.img_x = self.data.shape[0]\n",
    "        self.img_y = self.data.shape[1]\n",
    "        self.size = self.img_x * self.img_y\n",
    "        self.data = gray.reshape(self.size)\n",
    "        \n",
    "        self.clusters = np.zeros([self.C],int)\n",
    "        self.membership = np.random.random((self.size,self.C))\n",
    "        self.membership = self.membership / np.tile(self.membership.sum(axis=1)[np.newaxis].T,self.C)\n",
    "        self.J = 0\n",
    "    \n",
    "    def cal_cluster(self):\n",
    "        self.clusters = testclass.data.T @ testclass.membership ** self.m / np.sum(testclass.membership ** self.m, axis=0)\n",
    "    \n",
    "    def cal_membership(self):\n",
    "        parax = np.zeros([self.size,self.C])\n",
    "        paray = np.zeros([self.size,self.C,self.C])\n",
    "        num = 2/(self.m - 1)\n",
    "        for n in range(self.C):\n",
    "            parax[:,n] = abs(self.data - self.clusters[n])\n",
    "        for i in range(self.C):\n",
    "            for j in range(self.C):\n",
    "                paray[:,i,j] = parax[:,i] / parax[:,j]\n",
    "        for i in range(self.C):\n",
    "            self.membership[:,i] = 1/np.sum(paray[:,i,:] ** num,axis=1)\n",
    "        \n",
    "    def outputimg(self):\n",
    "        maxindex = np.argmax(testclass.membership,axis=1)\n",
    "        grayo = np.zeros([self.size],int)\n",
    "        graygrade = np.uint8(self.clusters)\n",
    "        for i in range(self.size):\n",
    "            grayo[i] = graygrade[maxindex[i]]\n",
    "        return grayo.reshape(self.img_x,self.img_y)\n",
    "    \n",
    "    def cal_J(self):\n",
    "        "
   ]
  },
  {
   "cell_type": "code",
   "execution_count": 132,
   "metadata": {},
   "outputs": [
    {
     "data": {
      "text/plain": [
       "array([[0.50120143, 0.30003892, 0.19875965],\n",
       "       [0.58003723, 0.14402809, 0.27593468],\n",
       "       [0.10838839, 0.76398887, 0.12762274],\n",
       "       ...,\n",
       "       [0.29410654, 0.57788536, 0.12800809],\n",
       "       [0.36730861, 0.19898338, 0.43370801],\n",
       "       [0.47777381, 0.25994115, 0.26228504]])"
      ]
     },
     "execution_count": 132,
     "metadata": {},
     "output_type": "execute_result"
    }
   ],
   "source": [
    "testclass = FCM(3,2,3,gray)\n",
    "testclass.membership"
   ]
  },
  {
   "cell_type": "code",
   "execution_count": 168,
   "metadata": {},
   "outputs": [
    {
     "data": {
      "text/plain": [
       "array([ 68.69419847, 132.39918424, 168.33204195])"
      ]
     },
     "execution_count": 168,
     "metadata": {},
     "output_type": "execute_result"
    }
   ],
   "source": [
    "testclass.cal_cluster()\n",
    "testclass.clusters"
   ]
  },
  {
   "cell_type": "code",
   "execution_count": 169,
   "metadata": {},
   "outputs": [
    {
     "data": {
      "text/plain": [
       "array([[0.05294469, 0.16688887, 0.78016644],\n",
       "       [0.05294469, 0.16688887, 0.78016644],\n",
       "       [0.05294469, 0.16688887, 0.78016644],\n",
       "       ...,\n",
       "       [0.35816573, 0.44527082, 0.19656345],\n",
       "       [0.34502629, 0.45718353, 0.19779018],\n",
       "       [0.30651917, 0.49378625, 0.19969458]])"
      ]
     },
     "execution_count": 169,
     "metadata": {},
     "output_type": "execute_result"
    }
   ],
   "source": [
    "testclass.cal_membership()\n",
    "testclass.membership"
   ]
  },
  {
   "cell_type": "code",
   "execution_count": 170,
   "metadata": {},
   "outputs": [
    {
     "data": {
      "text/plain": [
       "<matplotlib.image.AxesImage at 0x1b5bc4fb7c0>"
      ]
     },
     "execution_count": 170,
     "metadata": {},
     "output_type": "execute_result"
    },
    {
     "data": {
      "image/png": "[encoded data removed]",
      "text/plain": [
       "<Figure size 432x288 with 1 Axes>"
      ]
     },
     "metadata": {
      "needs_background": "light"
     },
     "output_type": "display_data"
    }
   ],
   "source": [
    "plt.imshow(testclass.outputimg(),'gray')"
   ]
  },
  {
   "cell_type": "code",
   "execution_count": 164,
   "metadata": {},
   "outputs": [
    {
     "data": {
      "text/plain": [
       "array([[159, 159, 159, ..., 159, 159, 136],\n",
       "       [159, 159, 159, ..., 159, 159, 136],\n",
       "       [159, 159, 159, ..., 159, 159, 136],\n",
       "       ...,\n",
       "       [ 80,  80,  80, ...,  80,  80,  80],\n",
       "       [ 80,  80,  80, ...,  80,  80,  80],\n",
       "       [ 80,  80,  80, ...,  80,  80,  80]])"
      ]
     },
     "execution_count": 164,
     "metadata": {},
     "output_type": "execute_result"
    }
   ],
   "source": [
    "testclass.outputimg()"
   ]
  },
  {
   "cell_type": "code",
   "execution_count": 104,
   "metadata": {},
   "outputs": [
    {
     "data": {
      "text/plain": [
       "array([0.49900427, 0.49900427, 0.49900427, ..., 0.50188506, 0.50198402,\n",
       "       0.50235493])"
      ]
     },
     "execution_count": 104,
     "metadata": {},
     "output_type": "execute_result"
    }
   ],
   "source": [
    "testclass.membership[:,0]"
   ]
  },
  {
   "cell_type": "code",
   "execution_count": 105,
   "metadata": {},
   "outputs": [
    {
     "ename": "IndexError",
     "evalue": "index 2 is out of bounds for axis 0 with size 2",
     "output_type": "error",
     "traceback": [
      "\u001b[1;31m---------------------------------------------------------------------------\u001b[0m",
      "\u001b[1;31mIndexError\u001b[0m                                Traceback (most recent call last)",
      "\u001b[1;32m<ipython-input-105-736df51697dc>\u001b[0m in \u001b[0;36m<module>\u001b[1;34m\u001b[0m\n\u001b[0;32m      2\u001b[0m \u001b[0mparay\u001b[0m \u001b[1;33m=\u001b[0m \u001b[0mnp\u001b[0m\u001b[1;33m.\u001b[0m\u001b[0mzeros\u001b[0m\u001b[1;33m(\u001b[0m\u001b[1;33m[\u001b[0m\u001b[0mtestclass\u001b[0m\u001b[1;33m.\u001b[0m\u001b[0msize\u001b[0m\u001b[1;33m,\u001b[0m\u001b[1;36m3\u001b[0m\u001b[1;33m,\u001b[0m\u001b[1;36m3\u001b[0m\u001b[1;33m]\u001b[0m\u001b[1;33m)\u001b[0m\u001b[1;33m\u001b[0m\u001b[1;33m\u001b[0m\u001b[0m\n\u001b[0;32m      3\u001b[0m \u001b[1;32mfor\u001b[0m \u001b[0mn\u001b[0m \u001b[1;32min\u001b[0m \u001b[0mrange\u001b[0m\u001b[1;33m(\u001b[0m\u001b[1;36m3\u001b[0m\u001b[1;33m)\u001b[0m\u001b[1;33m:\u001b[0m\u001b[1;33m\u001b[0m\u001b[1;33m\u001b[0m\u001b[0m\n\u001b[1;32m----> 4\u001b[1;33m     \u001b[0mparax\u001b[0m\u001b[1;33m[\u001b[0m\u001b[1;33m:\u001b[0m\u001b[1;33m,\u001b[0m\u001b[0mn\u001b[0m\u001b[1;33m]\u001b[0m \u001b[1;33m=\u001b[0m \u001b[0mabs\u001b[0m\u001b[1;33m(\u001b[0m\u001b[0mtestclass\u001b[0m\u001b[1;33m.\u001b[0m\u001b[0mdata\u001b[0m \u001b[1;33m-\u001b[0m \u001b[0mtestclass\u001b[0m\u001b[1;33m.\u001b[0m\u001b[0mclusters\u001b[0m\u001b[1;33m[\u001b[0m\u001b[0mn\u001b[0m\u001b[1;33m]\u001b[0m\u001b[1;33m)\u001b[0m\u001b[1;33m\u001b[0m\u001b[1;33m\u001b[0m\u001b[0m\n\u001b[0m\u001b[0;32m      5\u001b[0m \u001b[1;32mfor\u001b[0m \u001b[0mi\u001b[0m \u001b[1;32min\u001b[0m \u001b[0mrange\u001b[0m\u001b[1;33m(\u001b[0m\u001b[1;36m3\u001b[0m\u001b[1;33m)\u001b[0m\u001b[1;33m:\u001b[0m\u001b[1;33m\u001b[0m\u001b[1;33m\u001b[0m\u001b[0m\n\u001b[0;32m      6\u001b[0m     \u001b[1;32mfor\u001b[0m \u001b[0mj\u001b[0m \u001b[1;32min\u001b[0m \u001b[0mrange\u001b[0m\u001b[1;33m(\u001b[0m\u001b[1;36m3\u001b[0m\u001b[1;33m)\u001b[0m\u001b[1;33m:\u001b[0m\u001b[1;33m\u001b[0m\u001b[1;33m\u001b[0m\u001b[0m\n",
      "\u001b[1;31mIndexError\u001b[0m: index 2 is out of bounds for axis 0 with size 2"
     ]
    }
   ],
   "source": [
    "parax = np.zeros([testclass.size,3])\n",
    "paray = np.zeros([testclass.size,3,3])\n",
    "for n in range(3):\n",
    "    parax[:,n] = abs(testclass.data - testclass.clusters[n])\n",
    "for i in range(3):\n",
    "    for j in range(3):\n",
    "        paray[:,i,j] = parax[:,i] / parax[:,j]"
   ]
  },
  {
   "cell_type": "code",
   "execution_count": 350,
   "metadata": {},
   "outputs": [
    {
     "data": {
      "text/plain": [
       "array([0.33409684, 0.33409684, 0.33409684, ..., 0.33188628, 0.33181026,\n",
       "       0.33152526])"
      ]
     },
     "execution_count": 350,
     "metadata": {},
     "output_type": "execute_result"
    }
   ],
   "source": [
    "1/np.sum(paray[:,1,:],axis=1)"
   ]
  },
  {
   "cell_type": "code",
   "execution_count": 345,
   "metadata": {},
   "outputs": [
    {
     "data": {
      "text/plain": [
       "array([[1.00356583, 1.        , 1.00331368],\n",
       "       [1.00356583, 1.        , 1.00331368],\n",
       "       [1.00356583, 1.        , 1.00331368],\n",
       "       ...,\n",
       "       [0.99326428, 1.        , 0.9937406 ],\n",
       "       [0.99291119, 1.        , 0.99341248],\n",
       "       [0.99158836, 1.        , 0.99218319]])"
      ]
     },
     "execution_count": 345,
     "metadata": {},
     "output_type": "execute_result"
    }
   ],
   "source": [
    "paray[:,:,1]"
   ]
  },
  {
   "cell_type": "code",
   "execution_count": 334,
   "metadata": {},
   "outputs": [
    {
     "data": {
      "text/plain": [
       "array([0.99644684, 0.99644684, 0.99644684, ..., 1.00678139, 1.00713942,\n",
       "       1.008483  ])"
      ]
     },
     "execution_count": 334,
     "metadata": {},
     "output_type": "execute_result"
    }
   ],
   "source": [
    "parax[:,1] / parax[:,0]"
   ]
  },
  {
   "cell_type": "code",
   "execution_count": 73,
   "metadata": {},
   "outputs": [
    {
     "data": {
      "text/plain": [
       "array([0.10612732, 0.56385348, 0.3300192 ])"
      ]
     },
     "execution_count": 73,
     "metadata": {},
     "output_type": "execute_result"
    }
   ],
   "source": [
    "testclass.membership[1,:]"
   ]
  },
  {
   "cell_type": "code",
   "execution_count": 75,
   "metadata": {},
   "outputs": [
    {
     "data": {
      "text/plain": [
       "0.5638534761977526"
      ]
     },
     "execution_count": 75,
     "metadata": {},
     "output_type": "execute_result"
    }
   ],
   "source": [
    "indexnp.max(testclass.membership[1,:])"
   ]
  },
  {
   "cell_type": "code",
   "execution_count": 77,
   "metadata": {},
   "outputs": [
    {
     "data": {
      "text/plain": [
       "1"
      ]
     },
     "execution_count": 77,
     "metadata": {},
     "output_type": "execute_result"
    }
   ],
   "source": [
    "np.argmax(testclass.membership[1,:])"
   ]
  },
  {
   "cell_type": "code",
   "execution_count": 82,
   "metadata": {},
   "outputs": [],
   "source": [
    "test = np.argmax(testclass.membership,axis=1)"
   ]
  },
  {
   "cell_type": "code",
   "execution_count": 93,
   "metadata": {},
   "outputs": [],
   "source": [
    "grayo = np.zeros([test.shape[0]],int)\n",
    "for i in range(test.shape[0]):\n",
    "    grayo[i] = graygrade[test[i]]"
   ]
  },
  {
   "cell_type": "code",
   "execution_count": 95,
   "metadata": {},
   "outputs": [
    {
     "data": {
      "text/plain": [
       "<matplotlib.image.AxesImage at 0x21f8bea8f10>"
      ]
     },
     "execution_count": 95,
     "metadata": {},
     "output_type": "execute_result"
    },
    {
     "data": {
      "image/png": "[encoded data removed]",
      "text/plain": [
       "<Figure size 432x288 with 1 Axes>"
      ]
     },
     "metadata": {
      "needs_background": "light"
     },
     "output_type": "display_data"
    }
   ],
   "source": [
    "plt.imshow(grayo.reshape(512,512),'gray')"
   ]
  },
  {
   "cell_type": "code",
   "execution_count": 86,
   "metadata": {},
   "outputs": [],
   "source": [
    "graygrade = np.uint8(testclass.clusters)"
   ]
  },
  {
   "cell_type": "code",
   "execution_count": 87,
   "metadata": {},
   "outputs": [
    {
     "data": {
      "text/plain": [
       "array([ 57, 181, 128], dtype=uint8)"
      ]
     },
     "execution_count": 87,
     "metadata": {},
     "output_type": "execute_result"
    }
   ],
   "source": [
    "graygrade"
   ]
  },
  {
   "cell_type": "code",
   "execution_count": null,
   "metadata": {},
   "outputs": [],
   "source": []
  }
 ],
 "metadata": {
  "kernelspec": {
   "display_name": "Python 3",
   "language": "python",
   "name": "python3"
  },
  "language_info": {
   "codemirror_mode": {
    "name": "ipython",
    "version": 3
   },
   "file_extension": ".py",
   "mimetype": "text/x-python",
   "name": "python",
   "nbconvert_exporter": "python",
   "pygments_lexer": "ipython3",
   "version": "3.8.3"
  }
 },
 "nbformat": 4,
 "nbformat_minor": 4
}
